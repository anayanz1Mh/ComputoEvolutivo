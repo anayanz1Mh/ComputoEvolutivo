{
  "nbformat": 4,
  "nbformat_minor": 0,
  "metadata": {
    "colab": {
      "provenance": [],
      "toc_visible": true,
      "gpuType": "T4",
      "include_colab_link": true
    },
    "kernelspec": {
      "name": "python3",
      "display_name": "Python 3"
    },
    "language_info": {
      "name": "python"
    }
  },
  "cells": [
    {
      "cell_type": "markdown",
      "metadata": {
        "id": "view-in-github",
        "colab_type": "text"
      },
      "source": [
        "<a href=\"https://colab.research.google.com/github/anayanz1Mh/ComputoEvolutivo/blob/main/Octubre_Diagramas_de_cuadricula.ipynb\" target=\"_parent\"><img src=\"https://colab.research.google.com/assets/colab-badge.svg\" alt=\"Open In Colab\"/></a>"
      ]
    },
    {
      "cell_type": "markdown",
      "source": [
        "# Introducción"
      ],
      "metadata": {
        "id": "l-NoTMfZWRA4"
      }
    },
    {
      "cell_type": "code",
      "source": [],
      "metadata": {
        "id": "HXKEaLbg5rsf"
      },
      "execution_count": null,
      "outputs": []
    },
    {
      "cell_type": "markdown",
      "source": [
        "**Definición.** Un diagrama de cuadrícula plano $\\tilde{\\Gamma}$ consiste en una cuadrícula de $n\\times n$ celdas junto con una colección de puntos blancos y negros tales que:\n",
        "\n",
        "* Cada renglón contiene exactamente un punto blanco y un punto negro.\n",
        "*   Cada columna contiene exactamente un punto blanco y un punto negro.\n",
        "*   Ninguna celda contiene más de un punto.\n",
        "\n",
        "**Definición.** Al número $n$ lo conocemos como el número de cuadrícula de $\\tilde{\\Gamma}$.\n",
        "\n",
        "**Construcción.** Construimos una proyección plana de un nudo dibujando segmentos horizontales desde el punto blanco hasta el punto negro en cada renglón y un segmento vertical desde el punto negro al punto blanco en cada columna.\n",
        "\n",
        "En cada punto de intersección, dejamos la línea horizontal por debajo de la línea vertical.\n",
        "\n",
        "Esta construcción produce una proyección de un lazo orientado $\\vec{L}$ en $S^3$. (Manolescu, 2009)"
      ],
      "metadata": {
        "id": "CG3kfHOuU3WX"
      }
    },
    {
      "cell_type": "markdown",
      "source": [
        "# Bibliotecas"
      ],
      "metadata": {
        "id": "-b4RPwW7nPSf"
      }
    },
    {
      "cell_type": "code",
      "source": [
        "import torch\n",
        "import numpy as np\n",
        "import matplotlib.pyplot as plt\n",
        "from matplotlib.patches import Circle"
      ],
      "metadata": {
        "id": "Pa86e_4snLGV"
      },
      "execution_count": null,
      "outputs": []
    },
    {
      "cell_type": "markdown",
      "source": [
        "# Clase diagrama"
      ],
      "metadata": {
        "id": "GWydU2B1nWp3"
      }
    },
    {
      "cell_type": "code",
      "execution_count": null,
      "metadata": {
        "id": "6a1I534LnCVd"
      },
      "outputs": [],
      "source": [
        "class Diagrama:\n",
        "    def __init__(self, n, tensor):\n",
        "        \"\"\"\n",
        "        Constructor de la clase Diagrama\n",
        "        recibe el tamaño del tensor y el tensor\n",
        "        \"\"\"\n",
        "        self.n = n\n",
        "        #0: nada; 1: negros; 2: blancos\n",
        "        self.matriz = tensor\n",
        "        #print(self.matriz)\n",
        "\n",
        "\n",
        "    def Camino(self):\n",
        "      camino = []\n",
        "      visitados = set()\n",
        "      #Primer elemento visitado\n",
        "      fila = 0\n",
        "      columna = torch.where(self.matriz[0] == 1)[0].item()\n",
        "      #Agrego a arreglo y a conjunto\n",
        "      camino.append((fila, columna))\n",
        "      visitados.add((fila, columna))\n",
        "\n",
        "      while True:\n",
        "          # Busca la siguiente fila\n",
        "          for fila_ in range(0, self.n):\n",
        "              if self.matriz[fila_][columna].item() == 2:\n",
        "                  fila = fila_\n",
        "                  break\n",
        "          # Verificar si el nuevo nodo actual ya ha sido visitado\n",
        "          if (fila, columna) in visitados:\n",
        "            break\n",
        "\n",
        "          camino.append((fila, columna))\n",
        "          visitados.add((fila, columna))\n",
        "\n",
        "          # Busca la siguiente columna\n",
        "          columna = torch.where(self.matriz[fila] == 1)[0].item()\n",
        "\n",
        "          # Verificar si el nodo actual ya ha sido visitado\n",
        "          if (fila, columna) in visitados:\n",
        "            break\n",
        "          camino.append((fila, columna))\n",
        "          visitados.add((fila, columna))\n",
        "\n",
        "      return camino\n",
        "\n",
        "      ################################################################################\n",
        "\n",
        "    def realizacionCaminos(self, Mostrar, Guardar, Nombre):\n",
        "        \"\"\"\n",
        "        Realiza la versión gráfica del diagrama\n",
        "        \"\"\"\n",
        "        # Definir los límites de la retícula\n",
        "        n = self.n\n",
        "        x_min, x_max = 0, self.n\n",
        "        y_min, y_max = 0, self.n\n",
        "\n",
        "        # Crear una figura y ejes\n",
        "        fig, ax = plt.subplots()\n",
        "\n",
        "        # Dibujar la retícula\n",
        "        ax.set_xticks(range(x_min, x_max + 1))\n",
        "        ax.set_yticks(range(y_min, y_max + 1))\n",
        "        ax.grid(True, which='both', linestyle='--', linewidth=0.5)\n",
        "\n",
        "        # Dibujar círculos en cada celda de la retícula\n",
        "        camino = self.Camino()\n",
        "        i = 0\n",
        "        for vertice in camino:\n",
        "          x = camino[i][0]\n",
        "          y = camino[i][1]\n",
        "\n",
        "          if i%2 == 0:\n",
        "            color_ = 'black'\n",
        "          if i%2 == 1:\n",
        "            color_ = 'blue'\n",
        "\n",
        "          circle = Circle((x+0.5, y+0.5), 0.1, color=color_ )  # Círculo en el centro de cada celda\n",
        "          ax.add_patch(circle)\n",
        "          i = i+1\n",
        "\n",
        "        # Dibuja las líneas\n",
        "        i = 1\n",
        "        m = len(camino)\n",
        "        for i in range(m):\n",
        "          x1, y1 = camino[i][0], camino[i][1]\n",
        "          x2, y2 = camino[ (i+1) %m][0], camino[ (i+1) %m ][1]\n",
        "          if i%2 == 0:\n",
        "            color_ = 'purple'\n",
        "          else:\n",
        "            color_ = 'mediumturquoise'\n",
        "\n",
        "          plt.plot([x1 + 0.5, x2 + 0.5], [y1 + 0.5, y2 + 0.5], color= color_)\n",
        "          #Dirección\n",
        "          dx = x2 - x1\n",
        "          dy = y2 - y1\n",
        "          plt.arrow(x1 + 0.5, y1 + 0.5, dx*0.3, dy*0.3, head_width=0.2, head_length=0.2, fc=color_, ec=color_)\n",
        "\n",
        "        # Mostrar la retícula con círculos\n",
        "        plt.xlim(0, n)\n",
        "        plt.ylim(0, n)\n",
        "        plt.gca().set_aspect('equal', adjustable='box')\n",
        "        if Guardar:\n",
        "          plt.savefig('/content/drive/My Drive/Diagramas/'+Nombre)\n",
        "        if Mostrar:\n",
        "          plt.show()\n",
        "        plt.close()\n"
      ]
    },
    {
      "cell_type": "markdown",
      "source": [
        "# Verificar tensor"
      ],
      "metadata": {
        "id": "addJw9PsRpPf"
      }
    },
    {
      "cell_type": "code",
      "source": [
        "def verificar_tensor(tensor):\n",
        "    n =  tensor.shape[0]\n",
        "    for fila in tensor:\n",
        "        # Verificar que cada fila contenga exactamente una entrada con valor igual a 1\n",
        "        if (fila == 1).sum().item() != 1:\n",
        "            return False\n",
        "        # Verificar que cada fila contenga exactamente una entrada con valor igual a 1\n",
        "        if (fila == 2).sum().item() != 1:\n",
        "            return False\n",
        "        if (fila == 0).sum().item() != (n-2):\n",
        "            return False\n",
        "    for fila in tensor.T:\n",
        "        # Verificar que cada fila contenga exactamente una entrada con valor igual a 1\n",
        "        if (fila == 1).sum().item() != 1:\n",
        "            return False\n",
        "        # Verificar que cada fila contenga exactamente una entrada con valor igual a 1\n",
        "        if (fila == 2).sum().item() != 1:\n",
        "            return False\n",
        "        if (fila == 0).sum().item() != (n-2):\n",
        "            return False\n",
        "    return True"
      ],
      "metadata": {
        "id": "rTAvPekapnH8"
      },
      "execution_count": null,
      "outputs": []
    },
    {
      "cell_type": "markdown",
      "source": [
        "## Ejemplos caminos válidos"
      ],
      "metadata": {
        "id": "HDRu4uRZpf6Q"
      }
    },
    {
      "cell_type": "code",
      "source": [
        "# Ejemplo de un tensor válido\n",
        "tensor_1 = torch.tensor([[2, 1, 0],\n",
        "                               [1, 0, 2],\n",
        "                               [0, 2, 1]])\n",
        "print(\"El tensor válido es:\", verificar_tensor(tensor_1))\n",
        "\n",
        "\n",
        "# Ejemplo de un tensor no válido (contiene más de una entrada con valor 1 en la primera fila)\n",
        "tensor_2 = torch.tensor([[2, 1, 0, 0],\n",
        "                          [0, 2, 1, 0],\n",
        "                          [0, 0, 2, 1],\n",
        "                            [2, 1, 0, 0]])\n",
        "\n",
        "print(\"El tensor válido es:\", verificar_tensor(tensor_2))\n",
        "\n",
        "\n",
        "# Ejemplo de un tensor no válido (contiene más de una entrada con valor 1 en la primera fila)\n",
        "tensor_3 = torch.tensor([[2, 1, 0, 0],\n",
        "                         [0, 2, 1, 0],\n",
        "                         [0, 0, 2, 1],\n",
        "                         [1, 0, 0, 2]])\n",
        "print(\"El tensor válido es:\", verificar_tensor(tensor_3))\n",
        "\n",
        "#Ejemplo de nudo cerrado\n",
        "matriz_2 = np.array([ [1,2,0,0],\n",
        "                      [0,1,0,2],\n",
        "                      [0,0,2,1],\n",
        "                      [2,0,1,0]] ) #Entradas\n",
        "\n",
        "tensor_2 = torch.tensor(matriz_2)\n",
        "print(\"El tensor válido es:\", verificar_tensor(tensor_2))\n",
        "\n"
      ],
      "metadata": {
        "colab": {
          "base_uri": "https://localhost:8080/"
        },
        "id": "LIUSIgQcRuOM",
        "outputId": "5ae6165a-1e9f-43f9-cca3-ed121e62fb27"
      },
      "execution_count": null,
      "outputs": [
        {
          "output_type": "stream",
          "name": "stdout",
          "text": [
            "El tensor válido es: True\n",
            "El tensor válido es: False\n",
            "El tensor válido es: True\n",
            "El tensor válido es: True\n"
          ]
        }
      ]
    },
    {
      "cell_type": "markdown",
      "source": [
        "# Genera combinaciones"
      ],
      "metadata": {
        "id": "xbpejuVDdI34"
      }
    },
    {
      "cell_type": "code",
      "source": [
        "#Biblioteca necesaria para generar las combinaciones\n",
        "import itertools"
      ],
      "metadata": {
        "id": "l4fVlBOmdFTG"
      },
      "execution_count": null,
      "outputs": []
    },
    {
      "cell_type": "code",
      "source": [
        "def genera_combinaciones(n):\n",
        "    #Genera un vector de la forma [1, 2, 0, ... ,]\n",
        "    #Crea todas las permutaciones de ese vector\n",
        "    vector = [0]*n\n",
        "    vector[0]=1\n",
        "    vector[1]=2\n",
        "    return set(itertools.permutations(vector))"
      ],
      "metadata": {
        "id": "q--BELuLTiIg"
      },
      "execution_count": null,
      "outputs": []
    },
    {
      "cell_type": "code",
      "source": [
        "def Primer_Filtro(n):\n",
        "  #Primer filro\n",
        "  m = []\n",
        "  conjunto_combinaciones = genera_combinaciones(n)\n",
        "  candidatos = list(itertools.product(conjunto_combinaciones, repeat=n)) #Producto cartesiano\n",
        "  for c in candidatos:\n",
        "    # Verifica que sea cerrado\n",
        "    if verificar_tensor(torch.tensor(c)):\n",
        "      m.append(c)\n",
        "  return m #Regresa arreglos\n"
      ],
      "metadata": {
        "id": "2vHgRsODaVs5"
      },
      "execution_count": null,
      "outputs": []
    },
    {
      "cell_type": "code",
      "source": [
        "Candidatos_3 = Primer_Filtro(n=3)\n",
        "print('Hay {} candidatos para ser nudos cerrados'.format(len(Candidatos_3)))\n",
        "#for a in Candidatos_3:\n",
        "#  print(a)"
      ],
      "metadata": {
        "colab": {
          "base_uri": "https://localhost:8080/"
        },
        "id": "96j2hc-Ld4Rx",
        "outputId": "d8524588-f714-4712-dd53-f24cac0ad280"
      },
      "execution_count": null,
      "outputs": [
        {
          "output_type": "stream",
          "name": "stdout",
          "text": [
            "Hay 12 candidatos para ser nudos cerrados\n"
          ]
        }
      ]
    },
    {
      "cell_type": "code",
      "source": [
        "#Convirtiéndolos a diagramas\n",
        "def convierte_a_diagramas(Candidatos, n):\n",
        "  diagramas_ = []\n",
        "  no_diagramas_ = []\n",
        "\n",
        "  for a in Candidatos:\n",
        "    tensor_ = torch.tensor( np.array(a) )#Entradas\n",
        "    diagrama_ = Diagrama(n, tensor_)\n",
        "    camino_ = diagrama_.Camino()\n",
        "    #print('len camino', len (camino_))\n",
        "    if len(camino_) == 2*n:\n",
        "      diagramas_.append(a)\n",
        "    else:\n",
        "      no_diagramas_.append(a)\n",
        "  return diagramas_, no_diagramas_"
      ],
      "metadata": {
        "id": "TCsk896zeAS0"
      },
      "execution_count": null,
      "outputs": []
    },
    {
      "cell_type": "markdown",
      "source": [
        "# Preparando el drive"
      ],
      "metadata": {
        "id": "jEH2E7dradFp"
      }
    },
    {
      "cell_type": "code",
      "source": [
        "#Para poder manipular drive\n",
        "import os"
      ],
      "metadata": {
        "id": "vZvxqyqufD6A"
      },
      "execution_count": null,
      "outputs": []
    },
    {
      "cell_type": "code",
      "source": [
        "# Hacer conexión al drive\n",
        "from google.colab import drive\n",
        "drive.mount('/content/drive')"
      ],
      "metadata": {
        "colab": {
          "base_uri": "https://localhost:8080/"
        },
        "id": "EfodWhmX3f5D",
        "outputId": "bfea331d-4d92-4b86-8d4c-57889ec53959"
      },
      "execution_count": null,
      "outputs": [
        {
          "output_type": "stream",
          "name": "stdout",
          "text": [
            "Mounted at /content/drive\n"
          ]
        }
      ]
    },
    {
      "cell_type": "code",
      "source": [
        "# Debe existir la ruta MyDrive/Diagramas\n",
        "os.chdir('/content/drive/MyDrive/Diagramas')"
      ],
      "metadata": {
        "id": "SC24Birb5G6O"
      },
      "execution_count": null,
      "outputs": []
    },
    {
      "cell_type": "code",
      "source": [
        "#Comprobando el contenido de /Digramas en dónde estoy\n",
        "!ls"
      ],
      "metadata": {
        "id": "-ohvWn7t5-Pm",
        "colab": {
          "base_uri": "https://localhost:8080/"
        },
        "outputId": "4a5404a7-46cf-43cd-a98d-a4adbb469cf4"
      },
      "execution_count": null,
      "outputs": [
        {
          "output_type": "stream",
          "name": "stdout",
          "text": [
            "3  3-Diagramas.txt  3-regiones\t4  4-Diagramas.txt  5  5-Diagramas.txt\n"
          ]
        }
      ]
    },
    {
      "cell_type": "markdown",
      "source": [
        "## Diagramas con $n=3$"
      ],
      "metadata": {
        "id": "MNUZAtRuuESX"
      }
    },
    {
      "cell_type": "code",
      "source": [
        "#Realiza los diagramas y los guarda en drive\n",
        "n=3\n",
        "Candidatos_3 = Primer_Filtro(n)\n",
        "D = convierte_a_diagramas(Candidatos_3, n)\n",
        "diagramas_ = D[0]\n",
        "no_diagramas_ = D[1]\n",
        "print('Cantidad de diagramas de 3x3', len(diagramas_))\n",
        "print('Cantidad de no diagramas de 3x3', len(no_diagramas_))\n",
        "\n",
        "i=0\n",
        "lista_diagramas = [] #Lista para guardar la información producida\n",
        "for a in diagramas_:\n",
        "  nombre = '3/3_diagrama_{}.png'.format(i)\n",
        "  i+=1\n",
        "  diagrama_ = Diagrama(n=n, tensor=torch.tensor(np.array(a)) )\n",
        "  diagrama_.realizacionCaminos(Mostrar = False, Guardar = False, Nombre = nombre)\n",
        "  lista_diagramas.append(diagrama_.matriz)\n",
        "\n",
        "\n",
        "#Guardar los diagramas en un archivo txt\n",
        "# Abrir un archivo de texto para escribir\n",
        "with open('3-Diagramas.txt', 'w') as f:\n",
        "    for i, tensor in enumerate(lista_diagramas):\n",
        "        # Convertir cada tensor a numpy y luego a string\n",
        "        tensor_str = str(tensor.numpy())\n",
        "\n",
        "        # Escribir en el archivo, incluyendo el número de tensor\n",
        "        f.write(f\"{i+1}: {tensor_str}\\n\")\n"
      ],
      "metadata": {
        "colab": {
          "base_uri": "https://localhost:8080/"
        },
        "id": "QlX1AIMBtuVn",
        "outputId": "f25a1342-a0f8-41ad-d346-a7391a26876b"
      },
      "execution_count": null,
      "outputs": [
        {
          "output_type": "stream",
          "name": "stdout",
          "text": [
            "Cantidad de diagramas de 3x3 12\n",
            "Cantidad de no diagramas de 3x3 0\n"
          ]
        }
      ]
    },
    {
      "cell_type": "markdown",
      "source": [
        "## Diagramas con $n=4$"
      ],
      "metadata": {
        "id": "uZPzkoxdwM83"
      }
    },
    {
      "cell_type": "code",
      "source": [
        "#Realiza los diagramas y los guarda en drive\n",
        "n=4\n",
        "Candidatos_ = Primer_Filtro(n)\n",
        "D = convierte_a_diagramas(Candidatos_, n)\n",
        "diagramas_ = D[0]\n",
        "no_diagramas_ = D[1]\n",
        "print('Cantidad de diagramas de 4x4', len(diagramas_))\n",
        "print('Cantidad de no diagramas de 4x4', len(no_diagramas_))\n",
        "\n",
        "i=0\n",
        "lista_diagramas = []\n",
        "\n",
        "for a in diagramas_:\n",
        "  nombre = '4/4_diagrama_{}.png'.format(i)\n",
        "  i+=1\n",
        "  diagrama_ = Diagrama(n=n, tensor=torch.tensor(np.array(a)) )\n",
        "  diagrama_.realizacionCaminos(Mostrar = False, Guardar = True, Nombre = nombre)\n",
        "  lista_diagramas.append(diagrama_.matriz)\n",
        "\n",
        "\n",
        "#Guardar los diagramas en un archivo txt\n",
        "with open('4-Diagramas.txt', 'w') as f:\n",
        "    for i, tensor in enumerate(lista_diagramas):\n",
        "        # Convertir cada tensor a numpy y luego a string\n",
        "        tensor_str = str(tensor.numpy())\n",
        "\n",
        "        # Escribir en el archivo, incluyendo el número de tensor\n",
        "        f.write(f\"{i+1}: {tensor_str}\\n\")\n"
      ],
      "metadata": {
        "colab": {
          "base_uri": "https://localhost:8080/"
        },
        "id": "f_nuTWtuqr-B",
        "outputId": "dca64f77-c08d-4f09-f829-54a3cc70199a"
      },
      "execution_count": null,
      "outputs": [
        {
          "output_type": "stream",
          "name": "stdout",
          "text": [
            "Cantidad de diagramas de 4x4 144\n",
            "Cantidad de no diagramas de 4x4 72\n"
          ]
        }
      ]
    },
    {
      "cell_type": "code",
      "source": [
        "for a in no_diagramas_:\n",
        "  diagrama_ = Diagrama(n, torch.tensor(np.array(a)) )\n",
        "  diagrama_.realizacionCaminos()"
      ],
      "metadata": {
        "id": "zHKPdUbQtPR8"
      },
      "execution_count": null,
      "outputs": []
    },
    {
      "cell_type": "markdown",
      "source": [
        "##Diagramas con $n=5$"
      ],
      "metadata": {
        "id": "kgeBQBCXAsFQ"
      }
    },
    {
      "cell_type": "code",
      "source": [
        "#Realiza los diagramas y los guarda en drive\n",
        "n = 5\n",
        "Candidatos_ = Primer_Filtro(n)\n",
        "D = convierte_a_diagramas(Candidatos_, n)\n",
        "diagramas_ = D[0]\n",
        "no_diagramas_ = D[1]\n",
        "print('Cantidad de diagramas de 5x5', len(diagramas_))\n",
        "print('Cantidad de no diagramas de 5x5', len(no_diagramas_))\n",
        "\n",
        "i=0\n",
        "for a in diagramas_:\n",
        "  nombre = '5/diagrama_{}.png'.format(i)\n",
        "  i+=1\n",
        "  diagrama_ = Diagrama(n=n, tensor=torch.tensor(np.array(a)) )\n",
        "  diagrama_.realizacionCaminos(Mostrar = False, Guardar = True, Nombre = nombre)\n",
        "  lista_diagramas.append(diagrama_.matriz)\n",
        "\n",
        "\n",
        "#Guardar los diagramas en un archivo txt\n",
        "with open('5-Diagramas.txt', 'w') as f:\n",
        "    for i, tensor in enumerate(lista_diagramas):\n",
        "        # Convertir cada tensor a numpy y luego a string\n",
        "        tensor_str = str(tensor.numpy())\n",
        "\n",
        "        # Escribir en el archivo, incluyendo el número de tensor\n",
        "        f.write(f\"{i+1}: {tensor_str}\\n\")\n",
        "\n"
      ],
      "metadata": {
        "colab": {
          "base_uri": "https://localhost:8080/"
        },
        "id": "-Z07KiOnAiRC",
        "outputId": "2eb71934-b350-4c27-972c-e7c0af9f4609"
      },
      "execution_count": null,
      "outputs": [
        {
          "output_type": "stream",
          "name": "stdout",
          "text": [
            "Cantidad de diagramas de 5x5 2880\n",
            "Cantidad de no diagramas de 5x5 2400\n"
          ]
        }
      ]
    },
    {
      "cell_type": "markdown",
      "source": [
        "# Casos n=6, n=7, n=8"
      ],
      "metadata": {
        "id": "Y22sLNcztCut"
      }
    },
    {
      "cell_type": "markdown",
      "source": [
        "## Diagramas n=6"
      ],
      "metadata": {
        "id": "1kQeW6JFwyPJ"
      }
    },
    {
      "cell_type": "code",
      "source": [
        "#Realiza los diagramas y los guarda en drive\n",
        "n = 6\n",
        "Candidatos_ = Primer_Filtro(n)\n",
        "D = convierte_a_diagramas(Candidatos_, n)\n",
        "diagramas_ = D[0]\n",
        "no_diagramas_ = D[1]\n",
        "print('Cantidad de diagramas de 6x6', len(diagramas_))\n",
        "print('Cantidad de no diagramas de 6x6', len(no_diagramas_))\n",
        "\n",
        "cantidad_diagramas = len(diagramas_)\n",
        "cantidad_no_diagramas = len(no_diagramas_)\n",
        "\n",
        "# Guardamos en archivo la información de la cantidad de diagramas\n",
        "with open('cantidad_diagramas_6x6.txt', 'w') as file:\n",
        "    # Escribimos la cantidad en el archivo\n",
        "    file.write(f'Cantidad de diagramas de 6x6: {cantidad_diagramas}\\n')\n",
        "    file.write(f'Cantidad de no diagramas de 6x6: {cantidad_no_diagramas}\\n')\n",
        "\n",
        "print('Archivo creado exitosamente.')\n",
        "\n",
        "# Guarda la info de cada tensor\n",
        "with open('diagramas_6x6.txt', 'w') as file:\n",
        "    for tensor in diagramas_:\n",
        "        # Convertimos el tensor a cadena y lo escribimos en el archivo\n",
        "        file.write(str(tensor) + '\\n\\n')  # Cada tensor en un renglón separado por un doble salto de línea\n"
      ],
      "metadata": {
        "id": "n_NXARvzwCjz"
      },
      "execution_count": null,
      "outputs": []
    },
    {
      "cell_type": "markdown",
      "source": [
        "# Ejemplos particulares"
      ],
      "metadata": {
        "id": "zCUJ84tItE1R"
      }
    },
    {
      "cell_type": "markdown",
      "source": [
        "### Ejemplo $n=5$, Treefoil"
      ],
      "metadata": {
        "id": "-yQuEklPnI4I"
      }
    },
    {
      "cell_type": "code",
      "source": [
        "n = 5  # Tamaño de la matriz\n",
        "matriz = np.array([ [0,1,0,0,2],\n",
        "                    [2,0,1,0,0],\n",
        "                    [0,2,0,1,0],\n",
        "                    [0,0,2,0,1],\n",
        "                    [1,0,0,2,0]] ) #Entradas\n",
        "\n",
        "tensor_1 = torch.tensor(matriz)\n",
        "diagrama_1 = Diagrama(n, tensor_1)\n",
        "camino_1 = diagrama_1.Camino()\n",
        "print('El camino tiene tamaño {}'.format(len(camino_1)))\n",
        "print(camino_1)\n",
        "\n",
        "#Realización\n",
        "diagrama_1.realizacionCaminos()"
      ],
      "metadata": {
        "colab": {
          "base_uri": "https://localhost:8080/",
          "height": 572
        },
        "id": "aayDkuQWPHii",
        "outputId": "2ee2c0df-585f-48f5-e8ea-efce6df1e979"
      },
      "execution_count": null,
      "outputs": [
        {
          "output_type": "stream",
          "name": "stdout",
          "text": [
            "tensor([[0, 1, 0, 0, 2],\n",
            "        [2, 0, 1, 0, 0],\n",
            "        [0, 2, 0, 1, 0],\n",
            "        [0, 0, 2, 0, 1],\n",
            "        [1, 0, 0, 2, 0]])\n",
            "El camino tiene tamaño 10\n",
            "[(0, 1), (2, 1), (2, 3), (4, 3), (4, 0), (1, 0), (1, 2), (3, 2), (3, 4), (0, 4)]\n"
          ]
        },
        {
          "output_type": "display_data",
          "data": {
            "text/plain": [
              "<Figure size 640x480 with 1 Axes>"
            ],
            "image/png": "[encoded data removed]"
          },
          "metadata": {}
        }
      ]
    },
    {
      "cell_type": "markdown",
      "source": [
        "### Ejemplo $n=2$, Ciclo"
      ],
      "metadata": {
        "id": "1iq99bgwnArw"
      }
    },
    {
      "cell_type": "code",
      "source": [
        "n = 2  # Tamaño de la matriz\n",
        "matriz_2 = np.array([ [2,1],\n",
        "                    [1,2]] ) #Entradas\n",
        "\n",
        "tensor_2 = torch.tensor(matriz_2)\n",
        "diagrama_2 = Diagrama(n, tensor_2)\n",
        "camino_2 = diagrama_2.Camino()\n",
        "print('El camino tiene tamaño {}'.format(len(camino_2)))\n",
        "print(camino_2)\n",
        "\n",
        "#Realización\n",
        "archivo = diagrama_2.realizacionCaminos()\n",
        "\n"
      ],
      "metadata": {
        "colab": {
          "base_uri": "https://localhost:8080/",
          "height": 489
        },
        "id": "h3Qk9EECRRov",
        "outputId": "4179f472-8d3b-4cdf-93e4-9a9929f88a68"
      },
      "execution_count": null,
      "outputs": [
        {
          "output_type": "stream",
          "name": "stdout",
          "text": [
            "El camino tiene tamaño 4\n",
            "[(0, 1), (1, 1), (1, 0), (0, 0)]\n"
          ]
        },
        {
          "output_type": "display_data",
          "data": {
            "text/plain": [
              "<Figure size 640x480 with 1 Axes>"
            ],
            "image/png": "[encoded data removed]"
          },
          "metadata": {}
        }
      ]
    },
    {
      "cell_type": "markdown",
      "source": [
        "### Ejemplo $n=4$, Ciclo"
      ],
      "metadata": {
        "id": "WXYJB20QnDxC"
      }
    },
    {
      "cell_type": "code",
      "source": [
        "n = 4  # Tamaño de la matriz\n",
        "matriz_4 = np.array([ [1,2,0,0],\n",
        "                      [0,1,0,2],\n",
        "                      [0,0,2,1],\n",
        "                      [2,0,1,0]] ) #Entradas\n",
        "\n",
        "tensor_4 = torch.tensor(matriz_4)\n",
        "diagrama_4 = Diagrama(n, tensor_4)\n",
        "camino_4 = diagrama_4.Camino()\n",
        "print('El camino tiene tamaño {}'.format(len(camino_4)))\n",
        "print(camino_4)\n",
        "\n",
        "#Realización\n",
        "diagrama_4.realizacionCaminos()\n"
      ],
      "metadata": {
        "colab": {
          "base_uri": "https://localhost:8080/",
          "height": 555
        },
        "id": "8PcBq-gEjuF9",
        "outputId": "c60701b1-e8ff-4997-e292-0e49804926b9"
      },
      "execution_count": null,
      "outputs": [
        {
          "output_type": "stream",
          "name": "stdout",
          "text": [
            "tensor([[1, 2, 0, 0],\n",
            "        [0, 1, 0, 2],\n",
            "        [0, 0, 2, 1],\n",
            "        [2, 0, 1, 0]])\n",
            "El camino tiene tamaño 8\n",
            "[(0, 0), (3, 0), (3, 2), (2, 2), (2, 3), (1, 3), (1, 1), (0, 1)]\n"
          ]
        },
        {
          "output_type": "display_data",
          "data": {
            "text/plain": [
              "<Figure size 640x480 with 1 Axes>"
            ],
            "image/png": "[encoded data removed]"
          },
          "metadata": {}
        }
      ]
    },
    {
      "cell_type": "code",
      "source": [
        "i=0\n",
        "for i in range(0,10):\n",
        "  if i==100:\n",
        "    print('hola')\n",
        "else:\n",
        "  print('adios')"
      ],
      "metadata": {
        "colab": {
          "base_uri": "https://localhost:8080/"
        },
        "id": "Cacj5N07nzj_",
        "outputId": "a00604ac-2842-42e9-c7b8-88ed13c6db89"
      },
      "execution_count": null,
      "outputs": [
        {
          "output_type": "stream",
          "name": "stdout",
          "text": [
            "adios\n"
          ]
        }
      ]
    },
    {
      "cell_type": "markdown",
      "source": [
        "# Referencias\n",
        "\n",
        "\n",
        "*   Manolescu, Ciprian, et al. “A Combinatorial Description of Knot Floer Homology.” Annals of Mathematics, vol. 169, no. 2, 2009, pp. 633–60. JSTOR, http://www.jstor.org/stable/40345454. Accessed 10 Sept. 2024.\n",
        "\n",
        "\n"
      ],
      "metadata": {
        "id": "PkhARCXJGbSO"
      }
    },
    {
      "cell_type": "markdown",
      "source": [
        "# Notas"
      ],
      "metadata": {
        "id": "f006WPfxb4sG"
      }
    },
    {
      "cell_type": "markdown",
      "source": [
        "**última revisión: 10 septiembre 2024**\n",
        "\n",
        "*   Caso n=6, crashea por falta de RAM en T4 GPU\n",
        "\n"
      ],
      "metadata": {
        "id": "JhiYhqfmb-B7"
      }
    }
  ]
}